{
 "cells": [
  {
   "cell_type": "code",
   "execution_count": 1,
   "metadata": {
    "scrolled": true
   },
   "outputs": [],
   "source": [
    "#https://pandas.pydata.org/pandas-docs/stable/user_guide/timeseries.html#dateoffset-objects\n",
    "import pandas as pd\n",
    "import numpy as np\n",
    "from matplotlib import pyplot as plt\n",
    "from datetime import datetime as dt\n",
    "from matplotlib import dates as mpl_dates\n",
    "df = pd.read_csv('SLEEP/data.csv')\n",
    "df['lastSyncTime']=df['lastSyncTime'].apply(dt.fromtimestamp)\n",
    "df['start']=df['start'].apply(dt.fromtimestamp)\n",
    "df['stop']=df['stop'].apply(dt.fromtimestamp)\n",
    "zerosleep = df.shallowSleepTime==0\n",
    "df.drop(index=df[zerosleep].index,inplace=True)\n",
    "df['date']=pd.to_datetime(df['date'])\n",
    "pd.set_option('display.max_rows',200)"
   ]
  },
  {
   "cell_type": "code",
   "execution_count": 2,
   "metadata": {
    "scrolled": true
   },
   "outputs": [],
   "source": [
    "df.set_index('date',inplace=True)"
   ]
  },
  {
   "cell_type": "code",
   "execution_count": 3,
   "metadata": {},
   "outputs": [
    {
     "data": {
      "text/html": [
       "<div>\n",
       "<style scoped>\n",
       "    .dataframe tbody tr th:only-of-type {\n",
       "        vertical-align: middle;\n",
       "    }\n",
       "\n",
       "    .dataframe tbody tr th {\n",
       "        vertical-align: top;\n",
       "    }\n",
       "\n",
       "    .dataframe thead th {\n",
       "        text-align: right;\n",
       "    }\n",
       "</style>\n",
       "<table border=\"1\" class=\"dataframe\">\n",
       "  <thead>\n",
       "    <tr style=\"text-align: right;\">\n",
       "      <th></th>\n",
       "      <th>lastSyncTime</th>\n",
       "      <th>deepSleepTime</th>\n",
       "      <th>shallowSleepTime</th>\n",
       "      <th>wakeTime</th>\n",
       "      <th>start</th>\n",
       "      <th>stop</th>\n",
       "    </tr>\n",
       "    <tr>\n",
       "      <th>date</th>\n",
       "      <th></th>\n",
       "      <th></th>\n",
       "      <th></th>\n",
       "      <th></th>\n",
       "      <th></th>\n",
       "      <th></th>\n",
       "    </tr>\n",
       "  </thead>\n",
       "  <tbody>\n",
       "    <tr>\n",
       "      <th>2019-12-17</th>\n",
       "      <td>2019-12-18 06:23:24</td>\n",
       "      <td>110</td>\n",
       "      <td>319</td>\n",
       "      <td>0</td>\n",
       "      <td>2019-12-16 23:30:00</td>\n",
       "      <td>2019-12-17 06:39:00</td>\n",
       "    </tr>\n",
       "    <tr>\n",
       "      <th>2019-12-18</th>\n",
       "      <td>2019-12-19 06:15:19</td>\n",
       "      <td>91</td>\n",
       "      <td>306</td>\n",
       "      <td>0</td>\n",
       "      <td>2019-12-17 23:23:00</td>\n",
       "      <td>2019-12-18 06:00:00</td>\n",
       "    </tr>\n",
       "    <tr>\n",
       "      <th>2019-12-19</th>\n",
       "      <td>2019-12-20 06:39:32</td>\n",
       "      <td>133</td>\n",
       "      <td>261</td>\n",
       "      <td>0</td>\n",
       "      <td>2019-12-18 23:24:00</td>\n",
       "      <td>2019-12-19 05:58:00</td>\n",
       "    </tr>\n",
       "    <tr>\n",
       "      <th>2019-12-20</th>\n",
       "      <td>2019-12-21 00:00:36</td>\n",
       "      <td>100</td>\n",
       "      <td>268</td>\n",
       "      <td>0</td>\n",
       "      <td>2019-12-19 23:48:00</td>\n",
       "      <td>2019-12-20 05:56:00</td>\n",
       "    </tr>\n",
       "    <tr>\n",
       "      <th>2019-12-21</th>\n",
       "      <td>2019-12-22 07:49:33</td>\n",
       "      <td>88</td>\n",
       "      <td>273</td>\n",
       "      <td>0</td>\n",
       "      <td>2019-12-20 23:57:00</td>\n",
       "      <td>2019-12-21 05:58:00</td>\n",
       "    </tr>\n",
       "  </tbody>\n",
       "</table>\n",
       "</div>"
      ],
      "text/plain": [
       "                  lastSyncTime  deepSleepTime  shallowSleepTime  wakeTime  \\\n",
       "date                                                                        \n",
       "2019-12-17 2019-12-18 06:23:24            110               319         0   \n",
       "2019-12-18 2019-12-19 06:15:19             91               306         0   \n",
       "2019-12-19 2019-12-20 06:39:32            133               261         0   \n",
       "2019-12-20 2019-12-21 00:00:36            100               268         0   \n",
       "2019-12-21 2019-12-22 07:49:33             88               273         0   \n",
       "\n",
       "                         start                stop  \n",
       "date                                                \n",
       "2019-12-17 2019-12-16 23:30:00 2019-12-17 06:39:00  \n",
       "2019-12-18 2019-12-17 23:23:00 2019-12-18 06:00:00  \n",
       "2019-12-19 2019-12-18 23:24:00 2019-12-19 05:58:00  \n",
       "2019-12-20 2019-12-19 23:48:00 2019-12-20 05:56:00  \n",
       "2019-12-21 2019-12-20 23:57:00 2019-12-21 05:58:00  "
      ]
     },
     "execution_count": 3,
     "metadata": {},
     "output_type": "execute_result"
    }
   ],
   "source": [
    "df.head()"
   ]
  },
  {
   "cell_type": "code",
   "execution_count": 4,
   "metadata": {},
   "outputs": [],
   "source": [
    "jantofeb=df['2020-01':'2020-02'] #To get all data from january and february"
   ]
  },
  {
   "cell_type": "code",
   "execution_count": 5,
   "metadata": {},
   "outputs": [
    {
     "data": {
      "text/html": [
       "<div>\n",
       "<style scoped>\n",
       "    .dataframe tbody tr th:only-of-type {\n",
       "        vertical-align: middle;\n",
       "    }\n",
       "\n",
       "    .dataframe tbody tr th {\n",
       "        vertical-align: top;\n",
       "    }\n",
       "\n",
       "    .dataframe thead th {\n",
       "        text-align: right;\n",
       "    }\n",
       "</style>\n",
       "<table border=\"1\" class=\"dataframe\">\n",
       "  <thead>\n",
       "    <tr style=\"text-align: right;\">\n",
       "      <th></th>\n",
       "      <th>lastSyncTime</th>\n",
       "      <th>deepSleepTime</th>\n",
       "      <th>shallowSleepTime</th>\n",
       "      <th>wakeTime</th>\n",
       "      <th>start</th>\n",
       "      <th>stop</th>\n",
       "    </tr>\n",
       "    <tr>\n",
       "      <th>date</th>\n",
       "      <th></th>\n",
       "      <th></th>\n",
       "      <th></th>\n",
       "      <th></th>\n",
       "      <th></th>\n",
       "      <th></th>\n",
       "    </tr>\n",
       "  </thead>\n",
       "  <tbody>\n",
       "    <tr>\n",
       "      <th>2020-01-12</th>\n",
       "      <td>2020-01-13 08:44:19</td>\n",
       "      <td>69</td>\n",
       "      <td>390</td>\n",
       "      <td>0</td>\n",
       "      <td>2020-01-12 00:11:00</td>\n",
       "      <td>2020-01-12 07:50:00</td>\n",
       "    </tr>\n",
       "    <tr>\n",
       "      <th>2020-01-13</th>\n",
       "      <td>2020-01-14 08:54:50</td>\n",
       "      <td>108</td>\n",
       "      <td>410</td>\n",
       "      <td>0</td>\n",
       "      <td>2020-01-12 23:59:00</td>\n",
       "      <td>2020-01-13 08:37:00</td>\n",
       "    </tr>\n",
       "    <tr>\n",
       "      <th>2020-01-14</th>\n",
       "      <td>2020-01-15 08:21:43</td>\n",
       "      <td>0</td>\n",
       "      <td>187</td>\n",
       "      <td>49</td>\n",
       "      <td>2020-01-14 03:15:00</td>\n",
       "      <td>2020-01-14 07:11:00</td>\n",
       "    </tr>\n",
       "    <tr>\n",
       "      <th>2020-01-15</th>\n",
       "      <td>2020-01-16 00:15:09</td>\n",
       "      <td>111</td>\n",
       "      <td>447</td>\n",
       "      <td>0</td>\n",
       "      <td>2020-01-14 23:00:00</td>\n",
       "      <td>2020-01-15 08:18:00</td>\n",
       "    </tr>\n",
       "    <tr>\n",
       "      <th>2020-01-16</th>\n",
       "      <td>2020-01-17 00:14:07</td>\n",
       "      <td>21</td>\n",
       "      <td>513</td>\n",
       "      <td>0</td>\n",
       "      <td>2020-01-15 22:35:00</td>\n",
       "      <td>2020-01-16 07:29:00</td>\n",
       "    </tr>\n",
       "  </tbody>\n",
       "</table>\n",
       "</div>"
      ],
      "text/plain": [
       "                  lastSyncTime  deepSleepTime  shallowSleepTime  wakeTime  \\\n",
       "date                                                                        \n",
       "2020-01-12 2020-01-13 08:44:19             69               390         0   \n",
       "2020-01-13 2020-01-14 08:54:50            108               410         0   \n",
       "2020-01-14 2020-01-15 08:21:43              0               187        49   \n",
       "2020-01-15 2020-01-16 00:15:09            111               447         0   \n",
       "2020-01-16 2020-01-17 00:14:07             21               513         0   \n",
       "\n",
       "                         start                stop  \n",
       "date                                                \n",
       "2020-01-12 2020-01-12 00:11:00 2020-01-12 07:50:00  \n",
       "2020-01-13 2020-01-12 23:59:00 2020-01-13 08:37:00  \n",
       "2020-01-14 2020-01-14 03:15:00 2020-01-14 07:11:00  \n",
       "2020-01-15 2020-01-14 23:00:00 2020-01-15 08:18:00  \n",
       "2020-01-16 2020-01-15 22:35:00 2020-01-16 07:29:00  "
      ]
     },
     "execution_count": 5,
     "metadata": {},
     "output_type": "execute_result"
    }
   ],
   "source": [
    "jantofeb.head()"
   ]
  },
  {
   "cell_type": "code",
   "execution_count": 6,
   "metadata": {},
   "outputs": [],
   "source": [
    "df['totalSleepTime']=df['deepSleepTime']+df['shallowSleepTime']\n",
    "#Adds column totalSleepTime which is sum of deepSleepTime and shallowSleepTime\n",
    "df['DayOfWeek']=df['stop'].dt.day_name() #Adding new column named DayOfWeek"
   ]
  },
  {
   "cell_type": "code",
   "execution_count": 7,
   "metadata": {},
   "outputs": [
    {
     "data": {
      "text/html": [
       "<div>\n",
       "<style scoped>\n",
       "    .dataframe tbody tr th:only-of-type {\n",
       "        vertical-align: middle;\n",
       "    }\n",
       "\n",
       "    .dataframe tbody tr th {\n",
       "        vertical-align: top;\n",
       "    }\n",
       "\n",
       "    .dataframe thead th {\n",
       "        text-align: right;\n",
       "    }\n",
       "</style>\n",
       "<table border=\"1\" class=\"dataframe\">\n",
       "  <thead>\n",
       "    <tr style=\"text-align: right;\">\n",
       "      <th></th>\n",
       "      <th>lastSyncTime</th>\n",
       "      <th>deepSleepTime</th>\n",
       "      <th>shallowSleepTime</th>\n",
       "      <th>wakeTime</th>\n",
       "      <th>start</th>\n",
       "      <th>stop</th>\n",
       "      <th>totalSleepTime</th>\n",
       "      <th>DayOfWeek</th>\n",
       "    </tr>\n",
       "    <tr>\n",
       "      <th>date</th>\n",
       "      <th></th>\n",
       "      <th></th>\n",
       "      <th></th>\n",
       "      <th></th>\n",
       "      <th></th>\n",
       "      <th></th>\n",
       "      <th></th>\n",
       "      <th></th>\n",
       "    </tr>\n",
       "  </thead>\n",
       "  <tbody>\n",
       "    <tr>\n",
       "      <th>2019-12-17</th>\n",
       "      <td>2019-12-18 06:23:24</td>\n",
       "      <td>110</td>\n",
       "      <td>319</td>\n",
       "      <td>0</td>\n",
       "      <td>2019-12-16 23:30:00</td>\n",
       "      <td>2019-12-17 06:39:00</td>\n",
       "      <td>429</td>\n",
       "      <td>Tuesday</td>\n",
       "    </tr>\n",
       "    <tr>\n",
       "      <th>2019-12-18</th>\n",
       "      <td>2019-12-19 06:15:19</td>\n",
       "      <td>91</td>\n",
       "      <td>306</td>\n",
       "      <td>0</td>\n",
       "      <td>2019-12-17 23:23:00</td>\n",
       "      <td>2019-12-18 06:00:00</td>\n",
       "      <td>397</td>\n",
       "      <td>Wednesday</td>\n",
       "    </tr>\n",
       "    <tr>\n",
       "      <th>2019-12-19</th>\n",
       "      <td>2019-12-20 06:39:32</td>\n",
       "      <td>133</td>\n",
       "      <td>261</td>\n",
       "      <td>0</td>\n",
       "      <td>2019-12-18 23:24:00</td>\n",
       "      <td>2019-12-19 05:58:00</td>\n",
       "      <td>394</td>\n",
       "      <td>Thursday</td>\n",
       "    </tr>\n",
       "    <tr>\n",
       "      <th>2019-12-20</th>\n",
       "      <td>2019-12-21 00:00:36</td>\n",
       "      <td>100</td>\n",
       "      <td>268</td>\n",
       "      <td>0</td>\n",
       "      <td>2019-12-19 23:48:00</td>\n",
       "      <td>2019-12-20 05:56:00</td>\n",
       "      <td>368</td>\n",
       "      <td>Friday</td>\n",
       "    </tr>\n",
       "    <tr>\n",
       "      <th>2019-12-21</th>\n",
       "      <td>2019-12-22 07:49:33</td>\n",
       "      <td>88</td>\n",
       "      <td>273</td>\n",
       "      <td>0</td>\n",
       "      <td>2019-12-20 23:57:00</td>\n",
       "      <td>2019-12-21 05:58:00</td>\n",
       "      <td>361</td>\n",
       "      <td>Saturday</td>\n",
       "    </tr>\n",
       "  </tbody>\n",
       "</table>\n",
       "</div>"
      ],
      "text/plain": [
       "                  lastSyncTime  deepSleepTime  shallowSleepTime  wakeTime  \\\n",
       "date                                                                        \n",
       "2019-12-17 2019-12-18 06:23:24            110               319         0   \n",
       "2019-12-18 2019-12-19 06:15:19             91               306         0   \n",
       "2019-12-19 2019-12-20 06:39:32            133               261         0   \n",
       "2019-12-20 2019-12-21 00:00:36            100               268         0   \n",
       "2019-12-21 2019-12-22 07:49:33             88               273         0   \n",
       "\n",
       "                         start                stop  totalSleepTime  DayOfWeek  \n",
       "date                                                                           \n",
       "2019-12-17 2019-12-16 23:30:00 2019-12-17 06:39:00             429    Tuesday  \n",
       "2019-12-18 2019-12-17 23:23:00 2019-12-18 06:00:00             397  Wednesday  \n",
       "2019-12-19 2019-12-18 23:24:00 2019-12-19 05:58:00             394   Thursday  \n",
       "2019-12-20 2019-12-19 23:48:00 2019-12-20 05:56:00             368     Friday  \n",
       "2019-12-21 2019-12-20 23:57:00 2019-12-21 05:58:00             361   Saturday  "
      ]
     },
     "execution_count": 7,
     "metadata": {},
     "output_type": "execute_result"
    }
   ],
   "source": [
    "df.head()"
   ]
  },
  {
   "cell_type": "code",
   "execution_count": 8,
   "metadata": {},
   "outputs": [
    {
     "data": {
      "text/plain": [
       "Timestamp('2019-12-17 06:39:00')"
      ]
     },
     "execution_count": 8,
     "metadata": {},
     "output_type": "execute_result"
    }
   ],
   "source": [
    "df['stop'].min()"
   ]
  },
  {
   "cell_type": "code",
   "execution_count": 9,
   "metadata": {},
   "outputs": [
    {
     "data": {
      "text/plain": [
       "Timestamp('2020-04-10 09:12:00')"
      ]
     },
     "execution_count": 9,
     "metadata": {},
     "output_type": "execute_result"
    }
   ],
   "source": [
    "df['stop'].max()"
   ]
  },
  {
   "cell_type": "code",
   "execution_count": 11,
   "metadata": {},
   "outputs": [
    {
     "data": {
      "text/plain": [
       "Timedelta('115 days 02:33:00')"
      ]
     },
     "execution_count": 11,
     "metadata": {},
     "output_type": "execute_result"
    }
   ],
   "source": [
    "df['stop'].max()-df['stop'].min()\n",
    "# To know howmany days of data is present"
   ]
  },
  {
   "cell_type": "code",
   "execution_count": 12,
   "metadata": {
    "scrolled": true
   },
   "outputs": [
    {
     "data": {
      "text/html": [
       "<div>\n",
       "<style scoped>\n",
       "    .dataframe tbody tr th:only-of-type {\n",
       "        vertical-align: middle;\n",
       "    }\n",
       "\n",
       "    .dataframe tbody tr th {\n",
       "        vertical-align: top;\n",
       "    }\n",
       "\n",
       "    .dataframe thead th {\n",
       "        text-align: right;\n",
       "    }\n",
       "</style>\n",
       "<table border=\"1\" class=\"dataframe\">\n",
       "  <thead>\n",
       "    <tr style=\"text-align: right;\">\n",
       "      <th></th>\n",
       "      <th>lastSyncTime</th>\n",
       "      <th>deepSleepTime</th>\n",
       "      <th>shallowSleepTime</th>\n",
       "      <th>wakeTime</th>\n",
       "      <th>start</th>\n",
       "      <th>stop</th>\n",
       "      <th>totalSleepTime</th>\n",
       "      <th>DayOfWeek</th>\n",
       "    </tr>\n",
       "    <tr>\n",
       "      <th>date</th>\n",
       "      <th></th>\n",
       "      <th></th>\n",
       "      <th></th>\n",
       "      <th></th>\n",
       "      <th></th>\n",
       "      <th></th>\n",
       "      <th></th>\n",
       "      <th></th>\n",
       "    </tr>\n",
       "  </thead>\n",
       "  <tbody>\n",
       "    <tr>\n",
       "      <th>2020-02-01</th>\n",
       "      <td>2020-02-02 06:30:12</td>\n",
       "      <td>132</td>\n",
       "      <td>267</td>\n",
       "      <td>0</td>\n",
       "      <td>2020-01-31 23:48:00</td>\n",
       "      <td>2020-02-01 06:27:00</td>\n",
       "      <td>399</td>\n",
       "      <td>Saturday</td>\n",
       "    </tr>\n",
       "    <tr>\n",
       "      <th>2020-02-02</th>\n",
       "      <td>2020-02-03 00:06:11</td>\n",
       "      <td>140</td>\n",
       "      <td>363</td>\n",
       "      <td>0</td>\n",
       "      <td>2020-02-01 23:38:00</td>\n",
       "      <td>2020-02-02 08:01:00</td>\n",
       "      <td>503</td>\n",
       "      <td>Sunday</td>\n",
       "    </tr>\n",
       "    <tr>\n",
       "      <th>2020-02-04</th>\n",
       "      <td>2020-02-05 06:19:00</td>\n",
       "      <td>203</td>\n",
       "      <td>340</td>\n",
       "      <td>2</td>\n",
       "      <td>2020-02-03 23:12:00</td>\n",
       "      <td>2020-02-04 08:17:00</td>\n",
       "      <td>543</td>\n",
       "      <td>Tuesday</td>\n",
       "    </tr>\n",
       "    <tr>\n",
       "      <th>2020-02-05</th>\n",
       "      <td>2020-02-06 06:29:12</td>\n",
       "      <td>116</td>\n",
       "      <td>307</td>\n",
       "      <td>0</td>\n",
       "      <td>2020-02-04 23:09:00</td>\n",
       "      <td>2020-02-05 06:12:00</td>\n",
       "      <td>423</td>\n",
       "      <td>Wednesday</td>\n",
       "    </tr>\n",
       "    <tr>\n",
       "      <th>2020-02-06</th>\n",
       "      <td>2020-02-07 06:22:12</td>\n",
       "      <td>159</td>\n",
       "      <td>241</td>\n",
       "      <td>0</td>\n",
       "      <td>2020-02-05 23:22:00</td>\n",
       "      <td>2020-02-06 06:02:00</td>\n",
       "      <td>400</td>\n",
       "      <td>Thursday</td>\n",
       "    </tr>\n",
       "  </tbody>\n",
       "</table>\n",
       "</div>"
      ],
      "text/plain": [
       "                  lastSyncTime  deepSleepTime  shallowSleepTime  wakeTime  \\\n",
       "date                                                                        \n",
       "2020-02-01 2020-02-02 06:30:12            132               267         0   \n",
       "2020-02-02 2020-02-03 00:06:11            140               363         0   \n",
       "2020-02-04 2020-02-05 06:19:00            203               340         2   \n",
       "2020-02-05 2020-02-06 06:29:12            116               307         0   \n",
       "2020-02-06 2020-02-07 06:22:12            159               241         0   \n",
       "\n",
       "                         start                stop  totalSleepTime  DayOfWeek  \n",
       "date                                                                           \n",
       "2020-02-01 2020-01-31 23:48:00 2020-02-01 06:27:00             399   Saturday  \n",
       "2020-02-02 2020-02-01 23:38:00 2020-02-02 08:01:00             503     Sunday  \n",
       "2020-02-04 2020-02-03 23:12:00 2020-02-04 08:17:00             543    Tuesday  \n",
       "2020-02-05 2020-02-04 23:09:00 2020-02-05 06:12:00             423  Wednesday  \n",
       "2020-02-06 2020-02-05 23:22:00 2020-02-06 06:02:00             400   Thursday  "
      ]
     },
     "execution_count": 12,
     "metadata": {},
     "output_type": "execute_result"
    }
   ],
   "source": [
    "filt = (df['stop'].dt.month==2)\n",
    "df.loc[filt].head()\n",
    "#To filter and display only 2nd month data"
   ]
  },
  {
   "cell_type": "code",
   "execution_count": 13,
   "metadata": {},
   "outputs": [],
   "source": [
    "#df['stop'].dt.month"
   ]
  },
  {
   "cell_type": "code",
   "execution_count": 14,
   "metadata": {},
   "outputs": [
    {
     "data": {
      "text/plain": [
       "448.1764705882353"
      ]
     },
     "execution_count": 14,
     "metadata": {},
     "output_type": "execute_result"
    }
   ],
   "source": [
    "df['2020-01']['totalSleepTime'].mean() #Average sleep time of January month"
   ]
  },
  {
   "cell_type": "code",
   "execution_count": 16,
   "metadata": {},
   "outputs": [
    {
     "data": {
      "text/html": [
       "<div>\n",
       "<style scoped>\n",
       "    .dataframe tbody tr th:only-of-type {\n",
       "        vertical-align: middle;\n",
       "    }\n",
       "\n",
       "    .dataframe tbody tr th {\n",
       "        vertical-align: top;\n",
       "    }\n",
       "\n",
       "    .dataframe thead th {\n",
       "        text-align: right;\n",
       "    }\n",
       "</style>\n",
       "<table border=\"1\" class=\"dataframe\">\n",
       "  <thead>\n",
       "    <tr style=\"text-align: right;\">\n",
       "      <th></th>\n",
       "      <th>lastSyncTime</th>\n",
       "      <th>deepSleepTime</th>\n",
       "      <th>shallowSleepTime</th>\n",
       "      <th>wakeTime</th>\n",
       "      <th>start</th>\n",
       "      <th>stop</th>\n",
       "      <th>totalSleepTime</th>\n",
       "      <th>DayOfWeek</th>\n",
       "    </tr>\n",
       "    <tr>\n",
       "      <th>date</th>\n",
       "      <th></th>\n",
       "      <th></th>\n",
       "      <th></th>\n",
       "      <th></th>\n",
       "      <th></th>\n",
       "      <th></th>\n",
       "      <th></th>\n",
       "      <th></th>\n",
       "    </tr>\n",
       "  </thead>\n",
       "  <tbody>\n",
       "    <tr>\n",
       "      <th>2020-03-31</th>\n",
       "      <td>2020-04-01 09:47:07</td>\n",
       "      <td>89</td>\n",
       "      <td>386</td>\n",
       "      <td>53</td>\n",
       "      <td>2020-03-31 01:02:00</td>\n",
       "      <td>2020-03-31 09:50:00</td>\n",
       "      <td>475</td>\n",
       "      <td>Tuesday</td>\n",
       "    </tr>\n",
       "    <tr>\n",
       "      <th>2020-04-06</th>\n",
       "      <td>2020-04-07 00:01:37</td>\n",
       "      <td>50</td>\n",
       "      <td>329</td>\n",
       "      <td>79</td>\n",
       "      <td>2020-04-06 01:30:00</td>\n",
       "      <td>2020-04-06 09:08:00</td>\n",
       "      <td>379</td>\n",
       "      <td>Monday</td>\n",
       "    </tr>\n",
       "    <tr>\n",
       "      <th>2020-03-31</th>\n",
       "      <td>2020-04-01 09:47:07</td>\n",
       "      <td>89</td>\n",
       "      <td>386</td>\n",
       "      <td>53</td>\n",
       "      <td>2020-03-31 01:02:00</td>\n",
       "      <td>2020-03-31 09:50:00</td>\n",
       "      <td>475</td>\n",
       "      <td>Tuesday</td>\n",
       "    </tr>\n",
       "    <tr>\n",
       "      <th>2020-04-06</th>\n",
       "      <td>2020-04-07 00:01:37</td>\n",
       "      <td>50</td>\n",
       "      <td>329</td>\n",
       "      <td>79</td>\n",
       "      <td>2020-04-06 01:30:00</td>\n",
       "      <td>2020-04-06 09:08:00</td>\n",
       "      <td>379</td>\n",
       "      <td>Monday</td>\n",
       "    </tr>\n",
       "  </tbody>\n",
       "</table>\n",
       "</div>"
      ],
      "text/plain": [
       "                  lastSyncTime  deepSleepTime  shallowSleepTime  wakeTime  \\\n",
       "date                                                                        \n",
       "2020-03-31 2020-04-01 09:47:07             89               386        53   \n",
       "2020-04-06 2020-04-07 00:01:37             50               329        79   \n",
       "2020-03-31 2020-04-01 09:47:07             89               386        53   \n",
       "2020-04-06 2020-04-07 00:01:37             50               329        79   \n",
       "\n",
       "                         start                stop  totalSleepTime DayOfWeek  \n",
       "date                                                                          \n",
       "2020-03-31 2020-03-31 01:02:00 2020-03-31 09:50:00             475   Tuesday  \n",
       "2020-04-06 2020-04-06 01:30:00 2020-04-06 09:08:00             379    Monday  \n",
       "2020-03-31 2020-03-31 01:02:00 2020-03-31 09:50:00             475   Tuesday  \n",
       "2020-04-06 2020-04-06 01:30:00 2020-04-06 09:08:00             379    Monday  "
      ]
     },
     "execution_count": 16,
     "metadata": {},
     "output_type": "execute_result"
    }
   ],
   "source": [
    "filt1=(df['start'].dt.hour==1) #Slept after One O'Clock\n",
    "df.loc[filt1]"
   ]
  },
  {
   "cell_type": "code",
   "execution_count": 17,
   "metadata": {},
   "outputs": [],
   "source": [
    "week_avg=df['totalSleepTime'].resample('W').mean()"
   ]
  },
  {
   "cell_type": "code",
   "execution_count": 18,
   "metadata": {},
   "outputs": [
    {
     "data": {
      "text/plain": [
       "<matplotlib.axes._subplots.AxesSubplot at 0x7f3de02dc110>"
      ]
     },
     "execution_count": 18,
     "metadata": {},
     "output_type": "execute_result"
    },
    {
     "data": {
      "image/png": "[encoded data removed]",
      "text/plain": [
       "<Figure size 432x288 with 1 Axes>"
      ]
     },
     "metadata": {
      "needs_background": "light"
     },
     "output_type": "display_data"
    }
   ],
   "source": [
    "week_avg.plot()"
   ]
  },
  {
   "cell_type": "code",
   "execution_count": 19,
   "metadata": {},
   "outputs": [
    {
     "data": {
      "text/plain": [
       "[<matplotlib.lines.Line2D at 0x7f3de02dced0>]"
      ]
     },
     "execution_count": 19,
     "metadata": {},
     "output_type": "execute_result"
    },
    {
     "data": {
      "image/png": "[encoded data removed]",
      "text/plain": [
       "<Figure size 1080x504 with 1 Axes>"
      ]
     },
     "metadata": {
      "needs_background": "light"
     },
     "output_type": "display_data"
    }
   ],
   "source": [
    "times=df['start'].dt.hour\n",
    "plt.figure(figsize=(15,7))\n",
    "plt.plot(times)"
   ]
  },
  {
   "cell_type": "code",
   "execution_count": null,
   "metadata": {
    "scrolled": true
   },
   "outputs": [],
   "source": [
    "tot = df.loc[filt,'totalSleepTime']\n",
    "deep = df.loc[filt,'deepSleepTime']\n",
    "light = df.loc[filt,'shallowSleepTime']"
   ]
  },
  {
   "cell_type": "code",
   "execution_count": null,
   "metadata": {},
   "outputs": [],
   "source": [
    "plt.figure(figsize=(15,7))\n",
    "tot.plot.bar(color='#444444')\n",
    "light.plot.bar(color='#008fd5')\n",
    "deep.plot.bar(color='#f54257')\n",
    "date_format = mpl_dates.DateFormatter('%b, %d')\n",
    "plt.gca().xaxis.set_major_formatter(date_format)\n",
    "plt.grid(True)\n",
    "plt.xlabel('Days')\n",
    "plt.ylabel('Minutes Slept')\n",
    "plt.title('Sleep Analysis')\n",
    "plt.legend(['Total sleep','Light sleep','Deep sleep'])"
   ]
  },
  {
   "cell_type": "code",
   "execution_count": null,
   "metadata": {},
   "outputs": [],
   "source": [
    "plt.figure(figsize=(15,7))\n",
    "plt.plot(np.arange(days),tot)\n",
    "plt.plot(np.arange(days),light)\n",
    "plt.plot(np.arange(days),deep)\n",
    "plt.grid(True)\n",
    "plt.xlabel('Days')\n",
    "plt.ylabel('Minutes Slept')\n",
    "plt.title('Sleep Analysis')\n",
    "plt.legend(['Total sleep','Light sleep','Deep sleep'])\n",
    "plt.savefig('sleep.png')"
   ]
  }
 ],
 "metadata": {
  "kernelspec": {
   "display_name": "Python 3",
   "language": "python",
   "name": "python3"
  },
  "language_info": {
   "codemirror_mode": {
    "name": "ipython",
    "version": 3
   },
   "file_extension": ".py",
   "mimetype": "text/x-python",
   "name": "python",
   "nbconvert_exporter": "python",
   "pygments_lexer": "ipython3",
   "version": "3.7.6"
  }
 },
 "nbformat": 4,
 "nbformat_minor": 4
}
